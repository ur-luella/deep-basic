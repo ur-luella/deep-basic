{
 "cells": [
  {
   "cell_type": "code",
   "execution_count": 1,
   "metadata": {},
   "outputs": [
    {
     "name": "stderr",
     "output_type": "stream",
     "text": [
      "/Library/Frameworks/Python.framework/Versions/3.6/lib/python3.6/importlib/_bootstrap.py:205: RuntimeWarning: compiletime version 3.5 of module 'tensorflow.python.framework.fast_tensor_util' does not match runtime version 3.6\n",
      "  return f(*args, **kwds)\n"
     ]
    },
    {
     "name": "stdout",
     "output_type": "stream",
     "text": [
      "Extracting /Users/urim/Data/MNIST_data/train-images-idx3-ubyte.gz\n",
      "Extracting /Users/urim/Data/MNIST_data/train-labels-idx1-ubyte.gz\n",
      "Extracting /Users/urim/Data/MNIST_data/t10k-images-idx3-ubyte.gz\n",
      "Extracting /Users/urim/Data/MNIST_data/t10k-labels-idx1-ubyte.gz\n"
     ]
    }
   ],
   "source": [
    "import tensorflow as tf\n",
    "from tensorflow.examples.tutorials.mnist import input_data\n",
    "mnist = input_data.read_data_sets('/Users/urim/Data/MNIST_data', one_hot=True)"
   ]
  },
  {
   "cell_type": "code",
   "execution_count": 2,
   "metadata": {},
   "outputs": [],
   "source": [
    "hidden_size1 = 32\n",
    "hidden_size2 = 64\n",
    "batch_size = 100\n",
    "lr = 0.001"
   ]
  },
  {
   "cell_type": "code",
   "execution_count": 3,
   "metadata": {},
   "outputs": [],
   "source": [
    "inputs = tf.placeholder(tf.float32, shape=[None, 784]) #B,28*28\n",
    "labels = tf.placeholder(tf.float32, shape=[None, 10]) #\n",
    "\n",
    "inputs_reshape = tf.reshape(inputs, shape=[-1, 28, 28, 1]) # batchsize,28,28,channel\n",
    "\n",
    "W1 = tf.Variable(tf.random_normal([3,3,1,hidden_size1]))\n",
    "b1 = tf.Variable(tf.random_normal([256]))\n",
    "conv1 = tf.nn.conv2d(inputs_reshape, W1, strides=[1,1,1,1], padding='SAME')\n",
    "conv1_relu = tf.nn.relu(conv1)\n",
    "\n",
    "pool1 = tf.nn.max_pool(conv1_relu, ksize=[1,2,2,1], strides=[1,2,2,1], padding='SAME') #size: [batchsize,14,14,256]\n",
    "\n",
    "W2 = tf.Variable(tf.random_normal([3,3,hidden_size1,hidden_size2]))\n",
    "b1 = tf.Variable(tf.random_normal([128]))\n",
    "conv2 = tf.nn.conv2d(pool1, W2, strides=[1,1,1,1], padding='SAME')\n",
    "conv2_relu = tf.nn.relu(conv2)\n",
    "\n",
    "pool2 = tf.nn.max_pool(conv2_relu, ksize=[1,2,2,1], strides=[1,2,2,1], padding='SAME') #size= [batchsize,7,7,128]\n",
    "pool2_reshape = tf.reshape(pool2, shape=[-1, hidden_size2*7*7])\n",
    "\n",
    "W3 = tf.Variable(tf.random_normal([hidden_size2*7*7,10]))\n",
    "b3 = tf.Variable(tf.random_normal([10]))\n",
    "fc1 = tf.matmul(pool2_reshape, W3) + b3\n",
    "\n",
    "loss = tf.reduce_mean(tf.nn.softmax_cross_entropy_with_logits(logits=fc1, labels=labels))\n",
    "train_step = tf.train.AdamOptimizer(learning_rate=lr).minimize(loss)\n",
    "\n",
    "acc = tf.reduce_mean(tf.cast(tf.equal(tf.argmax(tf.nn.softmax(fc1), axis=1), tf.argmax(labels, axis=1)), tf.float32))"
   ]
  },
  {
   "cell_type": "code",
   "execution_count": null,
   "metadata": {},
   "outputs": [
    {
     "name": "stdout",
     "output_type": "stream",
     "text": [
      "step: 0 \n",
      "tr_loss: 3618.5227 \ttr_acc: 0.0700 \n",
      "val_loss: 3378.3438 \tval_acc: 0.0600 \n",
      "te_loss: 2993.8081 \tte_acc: 0.1000\n",
      "\n",
      "step: 100 \n",
      "tr_loss: 207.5100 \ttr_acc: 0.7300 \n",
      "val_loss: 256.2859 \tval_acc: 0.7400 \n",
      "te_loss: 227.5001 \tte_acc: 0.7600\n",
      "\n",
      "step: 200 \n",
      "tr_loss: 205.0798 \ttr_acc: 0.8200 \n",
      "val_loss: 99.1273 \tval_acc: 0.8700 \n",
      "te_loss: 171.2691 \tte_acc: 0.8100\n",
      "\n",
      "step: 300 \n",
      "tr_loss: 138.2458 \ttr_acc: 0.8500 \n",
      "val_loss: 55.9431 \tval_acc: 0.9200 \n",
      "te_loss: 75.8406 \tte_acc: 0.8900\n",
      "\n",
      "step: 400 \n",
      "tr_loss: 51.0578 \ttr_acc: 0.9200 \n",
      "val_loss: 32.6542 \tval_acc: 0.9300 \n",
      "te_loss: 38.3189 \tte_acc: 0.9300\n",
      "\n",
      "step: 500 \n",
      "tr_loss: 97.5805 \ttr_acc: 0.8700 \n",
      "val_loss: 39.7727 \tval_acc: 0.8900 \n",
      "te_loss: 76.4438 \tte_acc: 0.9200\n",
      "\n"
     ]
    }
   ],
   "source": [
    "with tf.Session() as sess:\n",
    "    sess.run(tf.global_variables_initializer())\n",
    "    writer = tf.summary.FileWriter('/Users/urim/Scripts/GIT', sess.graph)\n",
    "    for step in range(500 + 1):\n",
    "        batch_tr_inputs, batch_tr_labels = mnist.train.next_batch(batch_size)\n",
    "        _, tr_loss, tr_acc = sess.run([train_step, loss, acc], \n",
    "                                      feed_dict={inputs: batch_tr_inputs, labels: batch_tr_labels})\n",
    "        \n",
    "        batch_val_inputs, batch_val_labels = mnist.validation.next_batch(batch_size)\n",
    "        val_loss, val_acc = sess.run([loss, acc], \n",
    "                                      feed_dict={inputs: batch_val_inputs, labels: batch_val_labels})\n",
    "        \n",
    "        batch_te_inputs, batch_te_labels = mnist.test.next_batch(batch_size)\n",
    "        te_loss, te_acc = sess.run([loss, acc], \n",
    "                                      feed_dict={inputs: batch_te_inputs, labels: batch_te_labels})\n",
    "        \n",
    "        if step % 100 == 0:\n",
    "            print('step: {} \\ntr_loss: {:0.4f} \\ttr_acc: {:0.4f} \\nval_loss: {:0.4f} \\tval_acc: {:0.4f} \\nte_loss: {:0.4f} \\tte_acc: {:0.4f}\\n'\n",
    "                  .format(step, tr_loss, tr_acc, val_loss, val_acc, te_loss, te_acc))\n",
    "        "
   ]
  },
  {
   "cell_type": "code",
   "execution_count": null,
   "metadata": {},
   "outputs": [],
   "source": []
  }
 ],
 "metadata": {
  "kernelspec": {
   "display_name": "Python 3",
   "language": "python",
   "name": "python3"
  },
  "language_info": {
   "codemirror_mode": {
    "name": "ipython",
    "version": 3
   },
   "file_extension": ".py",
   "mimetype": "text/x-python",
   "name": "python",
   "nbconvert_exporter": "python",
   "pygments_lexer": "ipython3",
   "version": "3.6.1"
  },
  "notify_time": "5"
 },
 "nbformat": 4,
 "nbformat_minor": 2
}
