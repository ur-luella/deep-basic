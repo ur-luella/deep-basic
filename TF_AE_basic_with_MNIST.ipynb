{
 "cells": [
  {
   "cell_type": "code",
   "execution_count": 1,
   "metadata": {},
   "outputs": [
    {
     "name": "stderr",
     "output_type": "stream",
     "text": [
      "/Library/Frameworks/Python.framework/Versions/3.6/lib/python3.6/importlib/_bootstrap.py:205: RuntimeWarning: compiletime version 3.5 of module 'tensorflow.python.framework.fast_tensor_util' does not match runtime version 3.6\n",
      "  return f(*args, **kwds)\n"
     ]
    },
    {
     "name": "stdout",
     "output_type": "stream",
     "text": [
      "Extracting /Users/urim/Data/MNIST_data/train-images-idx3-ubyte.gz\n",
      "Extracting /Users/urim/Data/MNIST_data/train-labels-idx1-ubyte.gz\n",
      "Extracting /Users/urim/Data/MNIST_data/t10k-images-idx3-ubyte.gz\n",
      "Extracting /Users/urim/Data/MNIST_data/t10k-labels-idx1-ubyte.gz\n"
     ]
    }
   ],
   "source": [
    "from tqdm import trange\n",
    "import matplotlib.pyplot as plt\n",
    "import tensorflow as tf\n",
    "from tensorflow.examples.tutorials.mnist import input_data\n",
    "\n",
    "datasets = input_data.read_data_sets('enter_data_path', one_hot=True)"
   ]
  },
  {
   "cell_type": "code",
   "execution_count": 2,
   "metadata": {},
   "outputs": [],
   "source": [
    "batch_size = 32\n",
    "hidden_size = 256\n",
    "LR = 0.005"
   ]
  },
  {
   "cell_type": "code",
   "execution_count": 18,
   "metadata": {},
   "outputs": [
    {
     "name": "stderr",
     "output_type": "stream",
     "text": [
      "  0%|          | 23/10001 [00:00<02:05, 79.76it/s]"
     ]
    },
    {
     "name": "stdout",
     "output_type": "stream",
     "text": [
      "step: 0, decoder_tr_loss: 4.407607555389404, decoder_val_loss: 4.002101421356201\n"
     ]
    },
    {
     "name": "stderr",
     "output_type": "stream",
     "text": [
      " 10%|█         | 1023/10001 [00:06<00:53, 166.45it/s]"
     ]
    },
    {
     "name": "stdout",
     "output_type": "stream",
     "text": [
      "step: 1000, decoder_tr_loss: 0.21457123756408691, decoder_val_loss: 0.20303791761398315\n"
     ]
    },
    {
     "name": "stderr",
     "output_type": "stream",
     "text": [
      " 20%|██        | 2020/10001 [00:13<00:46, 170.63it/s]"
     ]
    },
    {
     "name": "stdout",
     "output_type": "stream",
     "text": [
      "step: 2000, decoder_tr_loss: 0.1478598266839981, decoder_val_loss: 0.14386782050132751\n"
     ]
    },
    {
     "name": "stderr",
     "output_type": "stream",
     "text": [
      " 30%|███       | 3033/10001 [00:19<00:41, 168.94it/s]"
     ]
    },
    {
     "name": "stdout",
     "output_type": "stream",
     "text": [
      "step: 3000, decoder_tr_loss: 0.13973063230514526, decoder_val_loss: 0.12986044585704803\n"
     ]
    },
    {
     "name": "stderr",
     "output_type": "stream",
     "text": [
      " 40%|████      | 4020/10001 [00:29<00:53, 111.33it/s]"
     ]
    },
    {
     "name": "stdout",
     "output_type": "stream",
     "text": [
      "step: 4000, decoder_tr_loss: 0.1227836087346077, decoder_val_loss: 0.12403254956007004\n"
     ]
    },
    {
     "name": "stderr",
     "output_type": "stream",
     "text": [
      " 50%|█████     | 5022/10001 [00:36<00:30, 163.00it/s]"
     ]
    },
    {
     "name": "stdout",
     "output_type": "stream",
     "text": [
      "step: 5000, decoder_tr_loss: 0.12682795524597168, decoder_val_loss: 0.11108958721160889\n"
     ]
    },
    {
     "name": "stderr",
     "output_type": "stream",
     "text": [
      " 60%|██████    | 6028/10001 [00:43<00:24, 159.25it/s]"
     ]
    },
    {
     "name": "stdout",
     "output_type": "stream",
     "text": [
      "step: 6000, decoder_tr_loss: 0.11766046285629272, decoder_val_loss: 0.10999281704425812\n"
     ]
    },
    {
     "name": "stderr",
     "output_type": "stream",
     "text": [
      " 70%|███████   | 7024/10001 [00:49<00:17, 166.49it/s]"
     ]
    },
    {
     "name": "stdout",
     "output_type": "stream",
     "text": [
      "step: 7000, decoder_tr_loss: 0.09062881767749786, decoder_val_loss: 0.12155816704034805\n"
     ]
    },
    {
     "name": "stderr",
     "output_type": "stream",
     "text": [
      " 80%|████████  | 8033/10001 [00:57<00:11, 168.03it/s]"
     ]
    },
    {
     "name": "stdout",
     "output_type": "stream",
     "text": [
      "step: 8000, decoder_tr_loss: 0.09542646259069443, decoder_val_loss: 0.09997006505727768\n"
     ]
    },
    {
     "name": "stderr",
     "output_type": "stream",
     "text": [
      " 90%|█████████ | 9037/10001 [01:04<00:05, 182.84it/s]"
     ]
    },
    {
     "name": "stdout",
     "output_type": "stream",
     "text": [
      "step: 9000, decoder_tr_loss: 0.08682951331138611, decoder_val_loss: 0.1011994257569313\n"
     ]
    },
    {
     "name": "stderr",
     "output_type": "stream",
     "text": [
      "100%|██████████| 10001/10001 [01:08<00:00, 267.18it/s]"
     ]
    },
    {
     "name": "stdout",
     "output_type": "stream",
     "text": [
      "step: 10000, pred_tr_loss: 0.487060, pred_val_loss: 0.807358\n",
      "step: 10000, decoder_tr_loss: 0.092132, decoder_val_loss: 0.104572\n",
      "step: 10000, pred_tr_acc: 0.875000, pred_val_acc: 0.750000\n",
      "\n",
      "Test\n",
      "decoder_te_loss: 0.097163, pred_te_loss: 0.865089, pred_te_acc: 0.718750\n"
     ]
    },
    {
     "name": "stderr",
     "output_type": "stream",
     "text": [
      "\n"
     ]
    }
   ],
   "source": [
    "inputs = tf.placeholder(tf.float32, shape=[None,784])\n",
    "labels = tf.placeholder(tf.float32, shape=[None, 10])\n",
    "\n",
    "##encoding\n",
    "W1 = tf.Variable(tf.random_normal(shape=[784, hidden_size]))\n",
    "b1 = tf.Variable(tf.random_normal(shape=[hidden_size]))\n",
    "encoder = tf.nn.sigmoid(tf.matmul(inputs, W1) + b1)\n",
    "\n",
    "##Predicting\n",
    "encoder_stop_gr = tf.stop_gradient(encoder)\n",
    "W2 = tf.Variable(tf.random_normal(shape=[hidden_size, 10]))\n",
    "b2 = tf.Variable(tf.random_normal(shape=[10]))\n",
    "pred_linear = tf.matmul(encoder_stop_gr, W2) + b2\n",
    "pred_outputs = tf.argmax(tf.nn.softmax(pred_linear), axis=1)\n",
    "\n",
    "##decoding\n",
    "W3 = tf.Variable(tf.random_normal(shape=[hidden_size, 784]))\n",
    "b3 = tf.Variable(tf.random_normal(shape=[784]))\n",
    "decoder_logits = tf.matmul(encoder, W3) + b3\n",
    "decoder = tf.nn.sigmoid(decoder_logits)\n",
    "\n",
    "########optimizing\n",
    "#predicting\n",
    "pred_loss = tf.reduce_mean(tf.nn.softmax_cross_entropy_with_logits(labels=labels, logits=pred_linear))\n",
    "pred_optimizer = tf.train.AdamOptimizer(learning_rate=LR).minimize(pred_loss)\n",
    "#decoding\n",
    "decoder_loss = tf.reduce_mean(tf.nn.sigmoid_cross_entropy_with_logits(labels=inputs, logits=decoder_logits))\n",
    "decoder_optimizer = tf.train.AdamOptimizer(learning_rate=LR).minimize(decoder_loss)\n",
    "\n",
    "#accuracy\n",
    "pred_accuracy = tf.reduce_mean(tf.cast(tf.equal(pred_outputs, tf.argmax(labels, axis=1)), tf.float32))\n",
    "\n",
    "with tf.Session() as sess:\n",
    "    sess.run(tf.global_variables_initializer())\n",
    "    for i in trange(10001):\n",
    "        if i <= 9000:\n",
    "            #decoder_train\n",
    "            batch_tr_inputs, batch_tr_labels = datasets.train.next_batch(batch_size)\n",
    "            feed_dict={inputs: batch_tr_inputs,labels: batch_tr_labels}\n",
    "            _, decoder_tr_loss = sess.run([decoder_optimizer, decoder_loss], feed_dict=feed_dict)\n",
    "            #decoder_validation\n",
    "            batch_val_inputs, batch_val_labels = datasets.validation.next_batch(batch_size)\n",
    "            feed_dict={inputs: batch_val_inputs,labels: batch_val_labels}\n",
    "            decoder_val_loss = sess.run(decoder_loss, feed_dict=feed_dict)\n",
    "            \n",
    "            if i % 1000 == 0:\n",
    "                print('step: {}, decoder_tr_loss: {}, decoder_val_loss: {}'.format(i, decoder_tr_loss, decoder_val_loss))\n",
    "        else:\n",
    "            #pred_train\n",
    "            batch_tr_inputs, batch_tr_labels = datasets.train.next_batch(batch_size)\n",
    "            feed_dict={inputs: batch_tr_inputs,labels: batch_tr_labels}\n",
    "            _, pred_tr_loss, pred_tr_acc, decoder_tr_loss = sess.run([pred_optimizer, pred_loss, pred_accuracy, decoder_loss], \n",
    "                                                                     feed_dict=feed_dict)\n",
    "            #pred_validation\n",
    "            batch_val_inputs, batch_val_labels = datasets.validation.next_batch(batch_size)\n",
    "            feed_dict={inputs: batch_val_inputs,labels: batch_val_labels}\n",
    "            pred_val_loss, pred_val_acc, decoder_val_loss = sess.run([pred_loss, pred_accuracy, decoder_loss], \n",
    "                                                                     feed_dict=feed_dict)\n",
    "            \n",
    "            if i % 1000 == 0:\n",
    "                print('step: {}, pred_tr_loss: {:.4f}, pred_val_loss: {:.4f}'.format(i, pred_tr_loss, pred_val_loss))\n",
    "                print('step: {}, decoder_tr_loss: {:.4f}, decoder_val_loss: {:.4f}'.format(i, decoder_tr_loss, decoder_val_loss))\n",
    "                print('step: {}, pred_tr_acc: {:.2f}, pred_val_acc: {:.2f}'.format(i, pred_tr_acc, pred_val_acc))\n",
    "         \n",
    "    batch_te_inputs, batch_te_labels = datasets.test.next_batch(batch_size)\n",
    "    feed_dict = {inputs: batch_te_inputs,labels: batch_te_labels}\n",
    "    decoder_te_loss, pred_te_loss, pred_te_acc, decoder_outputs, pred_outputs = sess.run([decoder_loss, pred_loss, pred_accuracy, decoder, pred_outputs], \n",
    "                                                                                          feed_dict=feed_dict)\n",
    "    print('\\nTest')\n",
    "    print('decoder_te_loss: {:.4f}, pred_te_loss: {:.4f}, pred_te_acc: {:.2f}'.format(decoder_te_loss, pred_te_loss, pred_te_acc))         "
   ]
  },
  {
   "cell_type": "code",
   "execution_count": 20,
   "metadata": {},
   "outputs": [
    {
     "data": {
      "image/png": "[encoded data removed]",
      "text/plain": [
       "<matplotlib.figure.Figure at 0x1385f9f98>"
      ]
     },
     "metadata": {},
     "output_type": "display_data"
    }
   ],
   "source": [
    "#Visualization\n",
    "%matplotlib inline\n",
    "import numpy as np\n",
    "plt.figure(figsize=[12,12])\n",
    "choice_num = 5\n",
    "rand_index = np.random.choice(batch_size, choice_num)\n",
    "for i in range(5):\n",
    "    nrow = 5\n",
    "    ncol = 2\n",
    "    plt.subplot(nrow,ncol,2*i+1)\n",
    "    plt.title('label num is : {}'.format(np.argmax(batch_te_labels[rand_index][i])))\n",
    "    plt.tight_layout()\n",
    "    plt.imshow(batch_te_inputs[rand_index][i].reshape(28,28), cmap='gray')\n",
    "\n",
    "    plt.subplot(nrow,ncol,2*i+2)\n",
    "    plt.title('Prediction num is: {}'.format(pred_outputs[rand_index][i]))\n",
    "    plt.tight_layout()\n",
    "    plt.imshow(decoder_outputs[rand_index][i].reshape(28,28), cmap='gray')"
   ]
  },
  {
   "cell_type": "code",
   "execution_count": null,
   "metadata": {},
   "outputs": [],
   "source": []
  }
 ],
 "metadata": {
  "kernelspec": {
   "display_name": "Python 3",
   "language": "python",
   "name": "python3"
  },
  "language_info": {
   "codemirror_mode": {
    "name": "ipython",
    "version": 3
   },
   "file_extension": ".py",
   "mimetype": "text/x-python",
   "name": "python",
   "nbconvert_exporter": "python",
   "pygments_lexer": "ipython3",
   "version": "3.6.1"
  }
 },
 "nbformat": 4,
 "nbformat_minor": 2
}
