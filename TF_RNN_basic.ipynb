{
 "cells": [
  {
   "cell_type": "code",
   "execution_count": 1,
   "metadata": {
    "scrolled": true
   },
   "outputs": [
    {
     "name": "stderr",
     "output_type": "stream",
     "text": [
      "/Library/Frameworks/Python.framework/Versions/3.6/lib/python3.6/importlib/_bootstrap.py:205: RuntimeWarning: compiletime version 3.5 of module 'tensorflow.python.framework.fast_tensor_util' does not match runtime version 3.6\n",
      "  return f(*args, **kwds)\n"
     ]
    },
    {
     "name": "stdout",
     "output_type": "stream",
     "text": [
      "Extracting /Users/urim/Data/MNIST_data/train-images-idx3-ubyte.gz\n",
      "Extracting /Users/urim/Data/MNIST_data/train-labels-idx1-ubyte.gz\n",
      "Extracting /Users/urim/Data/MNIST_data/t10k-images-idx3-ubyte.gz\n",
      "Extracting /Users/urim/Data/MNIST_data/t10k-labels-idx1-ubyte.gz\n"
     ]
    }
   ],
   "source": [
    "import tensorflow as tf\n",
    "from tensorflow.examples.tutorials.mnist import input_data\n",
    "mnist = input_data.read_data_sets('insert_your_data_path', one_hot=True)"
   ]
  },
  {
   "cell_type": "code",
   "execution_count": 2,
   "metadata": {},
   "outputs": [],
   "source": [
    "B = 50\n",
    "T = 28\n",
    "F = 28\n",
    "o_size = 10 #output_size\n",
    "h1 = 128"
   ]
  },
  {
   "cell_type": "code",
   "execution_count": 3,
   "metadata": {},
   "outputs": [],
   "source": [
    "inputs = tf.placeholder(tf.float32, shape=[None, T, F]) #B,T,F\n",
    "labels = tf.placeholder(tf.float32, shape=[None, 10])\n",
    "seq_length = tf.placeholder(tf.float32, shape=[None])\n",
    "\n",
    "W1 = tf.Variable(tf.random_normal([h1,o_size]))\n",
    "b1 = tf.Variable(tf.random_normal([o_size]))\n",
    "\n",
    "#cell = tf.nn.rnn_cell.LSTMCell(h1) #multirnncell에서 [cell]*2로 하면 계산이 되서 에러가 남\n",
    "#cell_2 = tf.nn.rnn_cell.LSTMCell(h1)\n",
    "#cell_ls = tf.nn.rnn_cell.MultiRNNCell([cell, cell_2])\n",
    "cell_ls = tf.nn.rnn_cell.MultiRNNCell([tf.nn.rnn_cell.LSTMCell(h1) for i in range(3)])\n",
    "\n",
    "outputs, states = tf.nn.dynamic_rnn(cell_ls, inputs, sequence_length=seq_length, dtype=tf.float32) #outpus.shape = [B,T,F]\n",
    "\n",
    "output_last = outputs[:,-1,:] #[B,T(last),H] -> [B,H]\n",
    "\n",
    "linear = tf.matmul(output_last, W1) + b1 #[B,H] * [H,outsize] \n",
    "\n",
    "loss = tf.reduce_mean(tf.nn.softmax_cross_entropy_with_logits(logits=linear, labels=labels))\n",
    "train_step = tf.train.AdamOptimizer(learning_rate=0.001).minimize(loss)\n",
    "\n",
    "acc = tf.reduce_mean(tf.cast(tf.equal(tf.argmax(tf.nn.softmax(linear), axis=1), tf.argmax(labels, axis=1)), tf.float32))"
   ]
  },
  {
   "cell_type": "code",
   "execution_count": 4,
   "metadata": {
    "scrolled": true
   },
   "outputs": [
    {
     "name": "stdout",
     "output_type": "stream",
     "text": [
      "step: 0 \n",
      "tr_loss: 3.0511 \ttr_acc: 0.1000 \n",
      "val_loss: 2.4789 \tval_acc: 0.0500 \n",
      "te_loss: 2.6713 \tte_acc: 0.0500\n",
      "\n",
      "step: 100 \n",
      "tr_loss: 1.3421 \ttr_acc: 0.4500 \n",
      "val_loss: 0.8327 \tval_acc: 0.6000 \n",
      "te_loss: 0.6218 \tte_acc: 0.8000\n",
      "\n",
      "step: 200 \n",
      "tr_loss: 0.5163 \ttr_acc: 0.8500 \n",
      "val_loss: 0.3332 \tval_acc: 0.9000 \n",
      "te_loss: 0.4817 \tte_acc: 0.8500\n",
      "\n",
      "step: 300 \n",
      "tr_loss: 0.4018 \ttr_acc: 0.8000 \n",
      "val_loss: 0.3154 \tval_acc: 0.8500 \n",
      "te_loss: 0.5195 \tte_acc: 0.8500\n",
      "\n",
      "step: 400 \n",
      "tr_loss: 0.2711 \ttr_acc: 0.8500 \n",
      "val_loss: 0.9545 \tval_acc: 0.7500 \n",
      "te_loss: 0.1637 \tte_acc: 0.9500\n",
      "\n",
      "step: 500 \n",
      "tr_loss: 0.0566 \ttr_acc: 1.0000 \n",
      "val_loss: 0.3513 \tval_acc: 0.9000 \n",
      "te_loss: 0.1983 \tte_acc: 0.8500\n",
      "\n",
      "step: 600 \n",
      "tr_loss: 0.3324 \ttr_acc: 0.9000 \n",
      "val_loss: 0.1823 \tval_acc: 0.9000 \n",
      "te_loss: 0.1854 \tte_acc: 0.9000\n",
      "\n",
      "step: 700 \n",
      "tr_loss: 0.2129 \ttr_acc: 0.9500 \n",
      "val_loss: 0.0642 \tval_acc: 1.0000 \n",
      "te_loss: 0.2124 \tte_acc: 0.9500\n",
      "\n",
      "step: 800 \n",
      "tr_loss: 0.4352 \ttr_acc: 0.8500 \n",
      "val_loss: 0.1033 \tval_acc: 0.9500 \n",
      "te_loss: 0.0621 \tte_acc: 1.0000\n",
      "\n",
      "step: 900 \n",
      "tr_loss: 0.0661 \ttr_acc: 1.0000 \n",
      "val_loss: 0.1373 \tval_acc: 0.9500 \n",
      "te_loss: 0.0525 \tte_acc: 0.9500\n",
      "\n",
      "step: 1000 \n",
      "tr_loss: 0.0449 \ttr_acc: 1.0000 \n",
      "val_loss: 0.1111 \tval_acc: 0.9500 \n",
      "te_loss: 0.0406 \tte_acc: 1.0000\n",
      "\n"
     ]
    }
   ],
   "source": [
    "with tf.Session() as sess:\n",
    "    sess.run(tf.global_variables_initializer())\n",
    "    for step in range(1000 + 1):\n",
    "        \n",
    "        batch_tr_inputs, batch_tr_labels = mnist.train.next_batch(B)\n",
    "        reshape_batch_tr_inputs = batch_tr_inputs.reshape([B, T, F])\n",
    "        _, tr_loss, tr_acc = sess.run([train_step, loss, acc], \n",
    "                                      feed_dict={inputs: reshape_batch_tr_inputs, labels: batch_tr_labels, seq_length: [T]*B}) #[28,28,28,...].shape = ()\n",
    "        \n",
    "        batch_val_inputs, batch_val_labels = mnist.validation.next_batch(B)\n",
    "        reshape_batch_val_inputs = batch_val_inputs.reshape([B, T, F])\n",
    "        val_loss, val_acc = sess.run([loss, acc], \n",
    "                                     feed_dict={inputs: reshape_batch_val_inputs, labels: batch_val_labels, seq_length: [T]*B})\n",
    "        \n",
    "        batch_te_inputs, batch_te_labels = mnist.test.next_batch(B)\n",
    "        reshape_batch_te_inputs = batch_te_inputs.reshape([B, T, F])\n",
    "        te_loss, te_acc = sess.run([loss, acc], \n",
    "                                     feed_dict={inputs: reshape_batch_te_inputs, labels: batch_te_labels, seq_length: [T]*B})\n",
    "        \n",
    "        if step % 100 == 0:\n",
    "            print('step: {} \\ntr_loss: {:0.4f} \\ttr_acc: {:0.4f} \\nval_loss: {:0.4f} \\tval_acc: {:0.4f} \\nte_loss: {:0.4f} \\tte_acc: {:0.4f}\\n'\n",
    "                  .format(step, tr_loss, tr_acc, val_loss, val_acc, te_loss, te_acc))"
   ]
  },
  {
   "cell_type": "code",
   "execution_count": null,
   "metadata": {},
   "outputs": [],
   "source": []
  },
  {
   "cell_type": "code",
   "execution_count": 4,
   "metadata": {},
   "outputs": [],
   "source": [
    "value = [1,2,3]\n",
    "test_tensor = tf.constant(value, dtype=tf.float32)"
   ]
  },
  {
   "cell_type": "code",
   "execution_count": null,
   "metadata": {},
   "outputs": [],
   "source": []
  }
 ],
 "metadata": {
  "kernelspec": {
   "display_name": "Python 3",
   "language": "python",
   "name": "python3"
  },
  "language_info": {
   "codemirror_mode": {
    "name": "ipython",
    "version": 3
   },
   "file_extension": ".py",
   "mimetype": "text/x-python",
   "name": "python",
   "nbconvert_exporter": "python",
   "pygments_lexer": "ipython3",
   "version": "3.6.1"
  }
 },
 "nbformat": 4,
 "nbformat_minor": 2
}
